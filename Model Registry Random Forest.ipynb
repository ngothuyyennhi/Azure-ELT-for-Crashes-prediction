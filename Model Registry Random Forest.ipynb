{
 "cells": [
  {
   "cell_type": "code",
   "execution_count": 0,
   "metadata": {
    "application/vnd.databricks.v1+cell": {
     "cellMetadata": {
      "byteLimit": 2048000,
      "rowLimit": 10000
     },
     "inputWidgets": {},
     "nuid": "f12d0637-b8b1-43af-94ff-a0b587a0d7d1",
     "showTitle": false,
     "tableResultSettingsMap": {},
     "title": ""
    }
   },
   "outputs": [],
   "source": [
    "import joblib\n",
    "\n",
    "trained_model=joblib.load('random_forest_model.pkl')"
   ]
  },
  {
   "cell_type": "code",
   "execution_count": 0,
   "metadata": {
    "application/vnd.databricks.v1+cell": {
     "cellMetadata": {
      "byteLimit": 2048000,
      "rowLimit": 10000
     },
     "inputWidgets": {},
     "nuid": "825c0955-bd93-4617-8faf-9166994b6295",
     "showTitle": false,
     "tableResultSettingsMap": {},
     "title": ""
    }
   },
   "outputs": [
    {
     "output_type": "stream",
     "name": "stderr",
     "output_type": "stream",
     "text": [
      "/databricks/python/lib/python3.11/site-packages/mlflow/types/utils.py:393: UserWarning: Hint: Inferred schema contains integer column(s). Integer columns in Python cannot represent missing values. If your input data contains missing values at inference time, it will be encoded as floats and will cause a schema enforcement error. The best way to avoid this problem is to infer the model schema based on a realistic data sample (training dataset) that includes missing values. Alternatively, you can declare integer columns as doubles (float64) whenever these columns may have missing values. See `Handling Integers With Missing Values <https://www.mlflow.org/docs/latest/models.html#handling-integers-with-missing-values>`_ for more details.\n  warnings.warn(\n"
     ]
    },
    {
     "output_type": "stream",
     "name": "stdout",
     "output_type": "stream",
     "text": [
      "--\n"
     ]
    },
    {
     "output_type": "stream",
     "name": "stderr",
     "output_type": "stream",
     "text": [
      "Registered model 'random_forest_model' already exists. Creating a new version of this model...\n2024/12/01 05:53:35 INFO mlflow.store.model_registry.abstract_store: Waiting up to 300 seconds for model version to finish creation. Model name: random_forest_model, version 3\n"
     ]
    },
    {
     "output_type": "stream",
     "name": "stdout",
     "output_type": "stream",
     "text": [
      "Run ID: c4a61d47400c4b11b830de026f3ed814\n"
     ]
    },
    {
     "output_type": "stream",
     "name": "stderr",
     "output_type": "stream",
     "text": [
      "Created version '3' of model 'random_forest_model'.\n"
     ]
    }
   ],
   "source": [
    "import mlflow\n",
    "from mlflow.models import infer_signature\n",
    "import numpy as np\n",
    "from sklearn.model_selection import train_test_split\n",
    "\n",
    "\n",
    "# Đọc dữ liệu và xử lý\n",
    "path = '/mnt/gold/gold/'\n",
    "df = spark.read.format('delta').load(path)\n",
    "\n",
    "required_columns = [\n",
    "    'is_injured', 'contributing_factor_vehicle_1_encoded', 'contributing_factor_vehicle_2_encoded',\n",
    "    'contributing_factor_vehicle_3_encoded', 'contributing_factor_vehicle_4_encoded',\n",
    "    'contributing_factor_vehicle_5_encoded', 'vehicle_type_code1_encoded', \n",
    "    'vehicle_type_code2_encoded', 'borough_encoded'\n",
    "]\n",
    "df_pd = df.select(required_columns).toPandas()\n",
    "\n",
    "# Chia dữ liệu thành đặc trưng và nhãn\n",
    "X = df_pd.drop(columns=['is_injured'])\n",
    "y = df_pd['is_injured']\n",
    "\n",
    "# Chia tập dữ liệu thành train và test\n",
    "X_train, X_test, y_train, y_test = train_test_split(X, y, test_size=0.9, random_state=42)\n",
    "\n",
    "# Bắt đầu ghi log trong MLflow\n",
    "with mlflow.start_run(run_name=\"Prophet Model Run\") as run:\n",
    "    # Ghi signature của mô hình\n",
    "    signature = infer_signature(X_train, y_train)\n",
    "\n",
    "    # Đăng ký và ghi mô hình với MLflow\n",
    "    reg_model_name = \"random_forest_model\"\n",
    "    print(\"--\")\n",
    "    model_log=mlflow.sklearn.log_model(\n",
    "        sk_model=trained_model,\n",
    "        artifact_path=\"random_forest_model\",\n",
    "        serialization_format=\"cloudpickle\",\n",
    "        signature=signature,\n",
    "        registered_model_name=reg_model_name,\n",
    "    )\n",
    "\n",
    "    # Lấy run_id để theo dõi sau này\n",
    "    run_id = run.info.run_uuid\n",
    "    print(f\"Run ID: {run_id}\")\n"
   ]
  }
 ],
 "metadata": {
  "application/vnd.databricks.v1+notebook": {
   "computePreferences": null,
   "dashboards": [],
   "environmentMetadata": {
    "base_environment": "",
    "client": "1"
   },
   "language": "python",
   "notebookMetadata": {
    "pythonIndentUnit": 4
   },
   "notebookName": "Model Registry Random Forest",
   "widgets": {}
  },
  "language_info": {
   "name": "python"
  }
 },
 "nbformat": 4,
 "nbformat_minor": 0
}